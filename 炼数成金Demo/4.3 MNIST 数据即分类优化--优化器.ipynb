{
 "cells": [
  {
   "cell_type": "code",
   "execution_count": 3,
   "metadata": {
    "collapsed": false
   },
   "outputs": [
    {
     "name": "stdout",
     "output_type": "stream",
     "text": [
      "Extracting MNIST_data\\train-images-idx3-ubyte.gz\n",
      "Extracting MNIST_data\\train-labels-idx1-ubyte.gz\n",
      "Extracting MNIST_data\\t10k-images-idx3-ubyte.gz\n",
      "Extracting MNIST_data\\t10k-labels-idx1-ubyte.gz\n",
      "Iter 0, Texting acc 0.8999\n",
      "Iter 1, Texting acc 0.912\n",
      "Iter 2, Texting acc 0.9152\n",
      "Iter 3, Texting acc 0.9199\n",
      "Iter 4, Texting acc 0.9224\n",
      "Iter 5, Texting acc 0.9235\n",
      "Iter 6, Texting acc 0.926\n",
      "Iter 7, Texting acc 0.9266\n",
      "Iter 8, Texting acc 0.928\n",
      "Iter 9, Texting acc 0.9295\n",
      "Iter 10, Texting acc 0.9302\n",
      "Iter 11, Texting acc 0.9297\n",
      "Iter 12, Texting acc 0.9299\n",
      "Iter 13, Texting acc 0.9308\n",
      "Iter 14, Texting acc 0.9304\n",
      "Iter 15, Texting acc 0.932\n",
      "Iter 16, Texting acc 0.9304\n",
      "Iter 17, Texting acc 0.93\n",
      "Iter 18, Texting acc 0.9318\n",
      "Iter 19, Texting acc 0.9312\n",
      "Iter 20, Texting acc 0.9327\n"
     ]
    }
   ],
   "source": [
    "import tensorflow as tf\n",
    "from tensorflow.examples.tutorials.mnist import input_data\n",
    "import numpy as np\n",
    "\n",
    "# 载入数据集\n",
    "mnist = input_data.read_data_sets(\"MNIST_data\",one_hot=True)\n",
    "\n",
    "# 定义每个批次的大小\n",
    "batch_size = 100\n",
    "# 计算一共有多少个批次\n",
    "n_batch = mnist.train.num_examples // batch_size\n",
    "\n",
    "# # 根据样本样式定义创建占位符（1列）\n",
    "x = tf.placeholder(tf.float32,[None,784]) # 每张图的像素点信息： 28*28 = 784\n",
    "y = tf.placeholder(tf.float32,[None,10])  # 十个数字\n",
    "\n",
    "# 定义神经网络的中间层\n",
    "# \n",
    "# 1行10列（输入层784个数据，中间层10个神经元）\n",
    "Weights_L1 = tf.Variable(tf.zeros([784,10])) \n",
    "biases_L1 =  tf.Variable(tf.zeros([10]))\n",
    "Wx_plus_b_L1 =  tf.matmul(x,Weights_L1) + biases_L1\n",
    "# 激活函数：softmax\n",
    "# 中间层输出：L1 （10个神经元）\n",
    "prediction = tf.nn.softmax(Wx_plus_b_L1)\n",
    "\n",
    "\n",
    "# 二次代阶函数\n",
    "# loss = tf.reduce_mean(tf.square(y - prediction))\n",
    "\n",
    "# 交叉熵\n",
    "loss = tf.reduce_mean(tf.nn.softmax_cross_entropy_with_logits_v2(labels = y, logits = prediction))\n",
    "\n",
    "# 定义一个梯度下降法来进行训练的优化器\n",
    "# train =  tf.train.GradientDescentOptimizer(0.2).minimize(loss)\n",
    "\n",
    "train = tf.train.AdamOptimizer(1e-3).minimize(loss)\n",
    "\n",
    "# 结果存放在一个布尔型的列表中\n",
    "correct_prediction = tf.equal(tf.arg_max(y,1),tf.arg_max(prediction,1))# argmax 返回一维张量中最大值的所以在位置\n",
    "# 求准确率\n",
    "# cast 把布尔型列表转换为float32， 如[true.true.false] =》 [1,1,0] ，那么准确率的值即为66.6%\n",
    "accuracy = tf.reduce_mean(tf.cast(correct_prediction,tf.float32))\n",
    "\n",
    "with tf.Session() as sess: \n",
    "    # 初始化全部变量\n",
    "    sess.run(tf.global_variables_initializer())\n",
    "    # 训练21个周期\n",
    "    for epoch in range(21):\n",
    "        # n_batch ： 一共有多少个批次\n",
    "        for batch in range(n_batch):\n",
    "            # 保存batch_size张图片的数据与标签\n",
    "            batch_xs,batch_ys = mnist.train.next_batch(batch_size)\n",
    "            sess.run(train,feed_dict={x:batch_xs,y:batch_ys})\n",
    "        \n",
    "        # 用测试集的图片及标签求得准确率\n",
    "        acc = sess.run(accuracy,feed_dict={x:mnist.test.images,y:mnist.test.labels})\n",
    "        print(\"Iter \"+ str(epoch) + \", Texting acc \" + str(acc))\n"
   ]
  },
  {
   "cell_type": "code",
   "execution_count": null,
   "metadata": {
    "collapsed": true
   },
   "outputs": [],
   "source": []
  }
 ],
 "metadata": {
  "anaconda-cloud": {},
  "kernelspec": {
   "display_name": "Python [default]",
   "language": "python",
   "name": "python3"
  },
  "language_info": {
   "codemirror_mode": {
    "name": "ipython",
    "version": 3
   },
   "file_extension": ".py",
   "mimetype": "text/x-python",
   "name": "python",
   "nbconvert_exporter": "python",
   "pygments_lexer": "ipython3",
   "version": "3.5.2"
  }
 },
 "nbformat": 4,
 "nbformat_minor": 1
}
