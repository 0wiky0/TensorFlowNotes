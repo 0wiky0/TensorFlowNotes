{
 "cells": [
  {
   "cell_type": "code",
   "execution_count": 2,
   "metadata": {
    "collapsed": false
   },
   "outputs": [
    {
     "name": "stdout",
     "output_type": "stream",
     "text": [
      "Tensor(\"Sub_1:0\", shape=(2,), dtype=int32)\n",
      "Tensor(\"Add:0\", shape=(2,), dtype=int32)\n"
     ]
    }
   ],
   "source": [
    "import tensorflow as tf\n",
    "# 创建变量 op\n",
    "x = tf.Variable([1,2])\n",
    "# 创建常量 op\n",
    "a = tf.constant([3,3])\n",
    "# 创建一个减法op\n",
    "sub = tf.subtract(x,a)\n",
    "\n",
    "# 创建一个加法法op\n",
    "add = tf.add(x,sub)\n",
    "\n",
    "# 初始化全部变量\n",
    "init = tf.global_variables_initializer()\n",
    "\n",
    "print(sub)\n",
    "print(add)"
   ]
  },
  {
   "cell_type": "code",
   "execution_count": 3,
   "metadata": {
    "collapsed": false
   },
   "outputs": [
    {
     "name": "stdout",
     "output_type": "stream",
     "text": [
      "[-2 -1]\n",
      "[-1  1]\n"
     ]
    }
   ],
   "source": [
    "# 常用写法（无需手动关闭会话）\n",
    "with tf.Session() as sess:\n",
    "    # 执行以上的op\n",
    "    result = sess.run(init)\n",
    "    print(sess.run(sub))\n",
    "    print(sess.run(add))"
   ]
  },
  {
   "cell_type": "code",
   "execution_count": 8,
   "metadata": {
    "collapsed": false
   },
   "outputs": [
    {
     "name": "stdout",
     "output_type": "stream",
     "text": [
      "1\n",
      "2\n",
      "3\n",
      "4\n",
      "5\n"
     ]
    }
   ],
   "source": [
    "state = tf.Variable(0,name='counter')\n",
    "# 创建一个加法法op\n",
    "new_value = tf.add(state,1)\n",
    "# 进行赋值操作（不能直接用等号）\n",
    "update = tf.assign(state,new_value)\n",
    "\n",
    "# 初始化全部变量\n",
    "init = tf.global_variables_initializer()\n",
    "\n",
    "# 常用写法（无需手动关闭会话）\n",
    "with tf.Session() as sess:\n",
    "    # 执行以上的op\n",
    "    sess.run(init)\n",
    "    # 循环自增\n",
    "    for _ in range(5):\n",
    "        result = sess.run(update)\n",
    "        print(result)"
   ]
  },
  {
   "cell_type": "code",
   "execution_count": null,
   "metadata": {
    "collapsed": true
   },
   "outputs": [],
   "source": []
  }
 ],
 "metadata": {
  "anaconda-cloud": {},
  "kernelspec": {
   "display_name": "Python [default]",
   "language": "python",
   "name": "python3"
  },
  "language_info": {
   "codemirror_mode": {
    "name": "ipython",
    "version": 3
   },
   "file_extension": ".py",
   "mimetype": "text/x-python",
   "name": "python",
   "nbconvert_exporter": "python",
   "pygments_lexer": "ipython3",
   "version": "3.5.2"
  }
 },
 "nbformat": 4,
 "nbformat_minor": 1
}
